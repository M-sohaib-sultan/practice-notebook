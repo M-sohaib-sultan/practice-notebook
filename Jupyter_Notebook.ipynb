{
 "cells": [
  {
   "cell_type": "markdown",
   "metadata": {},
   "source": [
    "<center>\n",
    "    <img src=\"https://cf-courses-data.s3.us.cloud-object-storage.appdomain.cloud/IBMDeveloperSkillsNetwork-DS0105EN-SkillsNetwork/labs/Module2/images/SN_web_lightmode.png\" width=\"300\" alt=\"cognitiveclass.ai logo\">\n",
    "</center>\n"
   ]
  },
  {
   "cell_type": "markdown",
   "metadata": {},
   "source": [
    "#### Add your code below following the instructions given in the course\n"
   ]
  },
  {
   "cell_type": "markdown",
   "metadata": {},
   "source": [
    "# Notebook for tools for data science practice"
   ]
  },
  {
   "cell_type": "markdown",
   "metadata": {},
   "source": [
    "### introduction\n",
    "1. Data Science is a combination of multiple disciplines that uses statistics, data analysis, and machine learning to analyze data and to extract knowledge and insights from it."
   ]
  },
  {
   "cell_type": "markdown",
   "metadata": {},
   "source": [
    "### list of data science languages\n",
    "1. python\n",
    "2. R"
   ]
  },
  {
   "cell_type": "markdown",
   "metadata": {},
   "source": [
    "## Libraries for data science in python\n",
    "\n",
    "1. **NumPy**: NumPy is the fundamental package for scientific computing in Python. It provides support for arrays, matrices, and a large number of mathematical functions to operate on these data structures.\n",
    "\n",
    "2. **Pandas**: Pandas is a powerful library for data manipulation and analysis. It provides data structures like DataFrame and Series, making it easy to handle and analyze structured data.\n",
    "\n",
    "3. **Matplotlib**: Matplotlib is a popular plotting library for creating static, interactive, and animated visualizations in Python. It provides a MATLAB-like interface and supports a wide variety of plots and charts.\n",
    "\n",
    "4. **Seaborn**: Seaborn is a statistical data visualization library based on Matplotlib. It provides a high-level interface for drawing attractive and informative statistical graphics.\n",
    "\n",
    "5. **SciPy**: SciPy is a library used for scientific and technical computing. It builds on NumPy and provides a large number of functions that operate on NumPy arrays and are useful for different types of scientific and engineering applications.\n",
    "\n",
    "6. **Scikit-learn**: Scikit-learn is a simple and efficient machine learning library for classic machine learning algorithms. It provides tools for data mining and data analysis and is built on NumPy, SciPy, and Matplotlib.\n",
    "\n",
    "7. **TensorFlow**: TensorFlow is an open-source machine learning library developed by Google. It is widely used for deep learning applications and provides a comprehensive, flexible ecosystem of tools, libraries, and community resources.\n",
    "\n",
    "8. **Keras**: Keras is an open-source deep learning API written in Python. It serves as a high-level neural networks API and can run on top of TensorFlow, Microsoft Cognitive Toolkit (CNTK), or Theano.\n",
    "\n",
    "9. **PyTorch**: PyTorch is an open-source machine learning library based on the Torch library. It is widely used for deep learning research and provides dynamic computational graphs, making it especially popular among researchers and academics.\n",
    "\n",
    "10. **StatsModels**: StatsModels is a library for estimating and interpreting models for many different statistical techniques. It provides classes and functions for the estimation of many different statistical models, as well as for conducting statistical tests, and statistical data exploration.\n",
    "\n",
    "\n",
    "## Libraries for data science in R\n",
    "\n",
    "1. **ggplot2**: A popular plotting system for creating complex visualizations.\n",
    "\n",
    "2. **dplyr**: A grammar of data manipulation for solving common data challenges.\n",
    "\n",
    "3. **tidyr**: Helps tidy messy datasets, making them easier to work with.\n",
    "\n",
    "4. **readr**: Enables fast and friendly reading of rectangular data like CSV and TSV files.\n",
    "\n",
    "5. **caret**: Provides a consistent interface for training various machine learning models.\n",
    "\n",
    "6. **randomForest**: Implements random forests for classification and regression tasks.\n",
    "\n",
    "7. **glmnet**: Fits Lasso and Elastic-Net regularized generalized linear models.\n",
    "\n",
    "8. **xgboost**: Optimized gradient boosting library for efficient machine learning.\n",
    "\n",
    "9. **tidyverse**: A collection of packages, including ggplot2 and dplyr, sharing a common design philosophy.\n",
    "\n",
    "10. **R Markdown**: Creates dynamic reports combining code, visualizations, and text.\n",
    "\n",
    "11. **shiny**: Builds interactive web applications directly from R for data visualization.\n",
    "\n",
    "12. **lubridate**: Simplifies date-time manipulation tasks in R.\n",
    "\n",
    "13. **Caret**: A versatile package for training and evaluating machine learning models.\n",
    "\n",
    "14. **tm**: Useful for text mining tasks, providing functions for text cleaning and tokenization.\n",
    "\n",
    "15. **ROCR**: Evaluates and visualizes the performance of scoring classifiers in classification tasks.\n",
    "\n"
   ]
  },
  {
   "cell_type": "markdown",
   "metadata": {},
   "source": [
    "| Tool Name         | Description                                       |\n",
    "|-------------------|---------------------------------------------------|\n",
    "| **Programming Languages** |                                                   |\n",
    "| R                 | Statistical computing and graphics language.      |\n",
    "| Python            | General-purpose programming language with extensive libraries for data analysis. |\n",
    "| **Data Manipulation & Analysis** |                                              |\n",
    "| Pandas            | Data manipulation and analysis library for Python.|\n",
    "| NumPy             | Numerical computing library for Python.           |\n",
    "| SQL               | Domain-specific language for managing and analyzing structured data. |\n",
    "| **Data Visualization** |                                                   |\n",
    "| Matplotlib        | 2D plotting library for Python.                    |\n",
    "| Seaborn           | Statistical data visualization based on Matplotlib.|\n",
    "| ggplot2 (R)        | Grammar of graphics-based plotting system in R.   |\n",
    "| Plotly            | Interactive graphing library for Python and R.     |\n",
    "| **Machine Learning** |                                                      |\n",
    "| Scikit-learn      | Machine learning library for Python.               |\n",
    "| XGBoost           | Scalable and accurate implementation of gradient boosting machines. |\n",
    "| TensorFlow        | Open-source machine learning framework developed by Google. |\n",
    "| Keras             | High-level neural networks API, written in Python and capable of running on top of TensorFlow. |\n",
    "| **Big Data & Distributed Computing** |                                              |\n",
    "| Hadoop            | Framework for distributed storage and processing of large sets of data. |\n",
    "| Spark             | Fast and general-purpose cluster computing system. |\n",
    "| Hive              | Data warehouse infrastructure built on top of Hadoop. |\n",
    "| **Data Mining & Text Mining** |                                              |\n",
    "| WEKA              | Suite of machine learning software for data mining tasks. |\n",
    "| NLTK (Natural Language Toolkit) | Python library for working with human language data. |\n",
    "| **Data Storage & Databases** |                                                    |\n",
    "| MySQL             | Open-source relational database management system. |\n",
    "| PostgreSQL        | Object-relational database system.                 |\n",
    "| MongoDB           | NoSQL database program, using JSON-like documents.  |\n",
    "| **Cloud Platforms** |                                                       |\n",
    "| AWS               | Amazon Web Services, offering various cloud computing services. |\n",
    "| Google Cloud      | Cloud computing services by Google.                 |\n",
    "| Azure (Microsoft) | Cloud computing platform and services by Microsoft. |\n",
    "| **Data Reporting & Visualization Tools** |                                          |\n",
    "| Tableau           | Business intelligence and visualization tool.      |\n",
    "| Power BI          | Business analytics service by Microsoft.           |\n",
    "| QlikView          | Business discovery platform for interactive data visualization. |\n"
   ]
  },
  {
   "cell_type": "markdown",
   "metadata": {},
   "source": [
    "## Arithmetic Expressions in Mathematics\n",
    "\n",
    "In mathematics, arithmetic expressions are combinations of numbers, operators, and parentheses that can be evaluated to produce a numerical result. These expressions follow the basic arithmetic operations: addition, subtraction, multiplication, and division. Understanding arithmetic expressions is fundamental to various fields, including mathematics, computer programming, and everyday problem-solving.\n",
    "\n",
    "### Basic Arithmetic Operators\n",
    "\n",
    "1. **Addition (+)**: Adds two numbers together.\n",
    "   - Example: \\(2 + 3 = 5\\)\n",
    "\n",
    "2. **Subtraction (-)**: Subtracts the right operand from the left operand.\n",
    "   - Example: \\(5 - 2 = 3\\)\n",
    "\n",
    "3. **Multiplication (*)**: Multiplies two numbers.\n",
    "   - Example: \\(4 \\times 6 = 24\\)\n",
    "\n",
    "4. **Division (/)**: Divides the left operand by the right operand.\n",
    "   - Example: \\(8 / 2 = 4\\)\n",
    "\n",
    "### Order of Operations\n",
    "\n",
    "Arithmetic expressions often involve multiple operations. To avoid ambiguity, mathematicians follow the **order of operations**:\n",
    "\n",
    "1. **Parentheses**: Operations inside parentheses are performed first.\n",
    "   - Example: \\((2 + 3) \\times 4 = 20\\)\n",
    "\n",
    "2. **Exponents**: Operations involving exponents (powers) are performed next.\n",
    "   - Example: \\(2^3 = 8\\)\n",
    "\n",
    "3. **Multiplication and Division**: Multiplication and division are performed from left to right.\n",
    "   - Example: \\(2 \\times 3 / 2 = 3\\)\n",
    "\n",
    "4. **Addition and Subtraction**: Addition and subtraction are performed from left to right.\n",
    "   - Example: \\(5 - 2 + 1 = 4\\)\n",
    "\n",
    "Understanding the order of operations is crucial for evaluating complex arithmetic expressions accurately.\n",
    "\n",
    "Arithmetic expressions are not limited to just numbers; they can also include variables, making them essential in algebra and advanced mathematics. These expressions serve as the building blocks for solving equations, making predictions in science and engineering, and performing calculations in computer programming.\n"
   ]
  },
  {
   "cell_type": "code",
   "execution_count": 1,
   "metadata": {
    "tags": []
   },
   "outputs": [
    {
     "name": "stdout",
     "output_type": "stream",
     "text": [
      "Multiplication Result: 15\n",
      "Addition Result: 17\n"
     ]
    }
   ],
   "source": [
    "# Multiply and Add Numbers\n",
    "def multiply_and_add(a, b, c):\n",
    "    multiplication_result = a * b\n",
    "    addition_result = multiplication_result + c\n",
    "    return multiplication_result, addition_result\n",
    "\n",
    "# Example numbers\n",
    "num1 = 3\n",
    "num2 = 5\n",
    "num3 = 2\n",
    "\n",
    "# Call the function\n",
    "multiplication_result, addition_result = multiply_and_add(num1, num2, num3)\n",
    "\n",
    "# Output the results\n",
    "print(f\"Multiplication Result: {multiplication_result}\")\n",
    "print(f\"Addition Result: {addition_result}\")\n"
   ]
  },
  {
   "cell_type": "code",
   "execution_count": 2,
   "metadata": {
    "tags": []
   },
   "outputs": [
    {
     "name": "stdout",
     "output_type": "stream",
     "text": [
      "120 minutes is equal to 2.0 hours.\n"
     ]
    }
   ],
   "source": [
    "# Convert Minutes to Hours\n",
    "def minutes_to_hours(minutes):\n",
    "    hours = minutes / 60\n",
    "    return hours\n",
    "\n",
    "# Example minutes to convert\n",
    "minutes = 120\n",
    "\n",
    "# Call the function\n",
    "hours = minutes_to_hours(minutes)\n",
    "\n",
    "# Output the result\n",
    "print(f\"{minutes} minutes is equal to {hours} hours.\")\n"
   ]
  },
  {
   "cell_type": "markdown",
   "metadata": {},
   "source": [
    "## Objectives\n",
    "1. to learn about the tools use in data science\n",
    "2. learn the basics of some important tools\n",
    "3. learn about jupyter notebook"
   ]
  },
  {
   "cell_type": "markdown",
   "metadata": {},
   "source": [
    "**Author:** Muhammad Sohaib Sultan"
   ]
  },
  {
   "cell_type": "code",
   "execution_count": null,
   "metadata": {},
   "outputs": [],
   "source": []
  }
 ],
 "metadata": {
  "kernelspec": {
   "display_name": "Python",
   "language": "python",
   "name": "conda-env-python-py"
  },
  "language_info": {
   "codemirror_mode": {
    "name": "ipython",
    "version": 3
   },
   "file_extension": ".py",
   "mimetype": "text/x-python",
   "name": "python",
   "nbconvert_exporter": "python",
   "pygments_lexer": "ipython3",
   "version": "3.7.12"
  }
 },
 "nbformat": 4,
 "nbformat_minor": 4
}
